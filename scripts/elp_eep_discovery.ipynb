{
  "cells": [
    {
      "cell_type": "markdown",
      "metadata": {
        "id": "L_uFM7SFA2nm"
      },
      "source": [
        "# Packages"
      ]
    },
    {
      "cell_type": "code",
      "execution_count": null,
      "metadata": {
        "id": "UIoFiMNT1Owm",
        "collapsed": true
      },
      "outputs": [],
      "source": [
        "!pip install biopython==1.78\n",
        "!pip install rdkit\n",
        "\n",
        "import pandas as pd\n",
        "import numpy as np\n",
        "from numpy import genfromtxt\n",
        "import scipy as sp\n",
        "from matplotlib import pyplot as plt\n",
        "import math\n",
        "\n",
        "from sklearn.model_selection import KFold\n",
        "from sklearn.feature_selection import SelectKBest\n",
        "from sklearn.feature_selection import f_regression\n",
        "from sklearn.linear_model import LinearRegression\n",
        "from sklearn.pipeline import Pipeline\n",
        "from sklearn.model_selection import GridSearchCV\n",
        "\n",
        "from Bio import pairwise2\n",
        "from Bio.Seq import Seq\n",
        "from Bio.pairwise2 import format_alignment\n",
        "from Bio.Align import substitution_matrices\n",
        "from Bio.SubsMat import MatrixInfo as matlist\n",
        "\n",
        "from rdkit.ML.Cluster import Butina"
      ]
    },
    {
      "cell_type": "markdown",
      "metadata": {
        "id": "en_yk9bLA0vB"
      },
      "source": [
        "# Functions"
      ]
    },
    {
      "cell_type": "code",
      "execution_count": null,
      "metadata": {
        "id": "dLyjgDOxAx83"
      },
      "outputs": [],
      "source": [
        "hscale_wif = {'G': 0.01, 'A': 0.17, 'V': 0.07, 'L': -0.56, 'I': -0.31, 'M': -0.23,\n",
        "              'P': 0.45, 'F': -1.13, 'W': -1.85, 'S': 0.13, 'T': 0.14, 'N': 0.42,\n",
        "              'Q': 0.58, 'Y': -0.94, 'C': -0.24, 'K': 0.99, 'R': 0.81, 'H': 0.96,\n",
        "              'D': 1.23, 'E': 2.02}\n",
        "\n",
        "pKa = {'A':  [2.34, 9.69], 'R': [2.17, 9.04, 12.48], 'N': [2.02, 8.8],\n",
        "       'D': [2.19, 9.67, 4.25], 'C':  [1.9, 8.18, 5.07], 'Q': [2.17, 9.13],\n",
        "       'E': [2.19, 9.67, 4.25], 'G':  [2.34, 9.6], 'H': [1.82, 9.17, 6.00],\n",
        "       'I':  [2.36, 9.6], 'L':  [2.36, 9.6], 'K': [2.18, 8.95, 10.53],\n",
        "       'M':  [2.28, 9.21], 'F':  [1.83, 9.13], 'P': [1.99, 10.60],\n",
        "       'S': [2.21, 9.15], 'T': [2.09, 9.10], 'W':  [2.83, 9.39],\n",
        "       'Y':  [2.20, 9.11], 'V':  [2.32, 9.62]}\n",
        "\n",
        "def calculate_hydrophobic_moment(peptide):\n",
        "    phi = 0\n",
        "    theta = 100/180*math.pi\n",
        "    x = 0\n",
        "    y = 0\n",
        "    for residue in peptide:\n",
        "        x = x - hscale_wif[residue]*math.sin(phi)\n",
        "        y = y + hscale_wif[residue]*math.cos(phi)\n",
        "        phi = phi + theta\n",
        "    return math.sqrt(x**2+y**2)\n",
        "\n",
        "def calculate_pI(peptide):\n",
        "    first_res = peptide[0]\n",
        "    last_res = peptide[-1]\n",
        "    pKa_array = [pKa[first_res][1], pKa[last_res][0]]\n",
        "    for residue in peptide:\n",
        "        charged_res = ['R', 'K', 'D', 'E', 'H']\n",
        "        if residue in charged_res:\n",
        "            pKa_array.append(pKa[residue][2])\n",
        "    pKa_array.sort()\n",
        "    pepcharge = peptide.count('R')+peptide.count('K')+peptide.count('H')+1\n",
        "    pI = (pKa_array[pepcharge-1]+pKa_array[pepcharge])/2\n",
        "    return pI\n",
        "\n",
        "def calculate_regression1_features(df):\n",
        "    for index, row in df.iterrows():\n",
        "        peptide = row[\"Sequence\"]\n",
        "        df.loc[index, \"Amphipathic alpha-helix\"] = 1\n",
        "        df.loc[index, \"Hydrophobic moment\"] = calculate_hydrophobic_moment(peptide)\n",
        "        df.loc[index, \"% Negative residues\"] = (peptide.count(\"D\")+peptide.count(\"E\"))/len(peptide)*100\n",
        "        df.loc[index, \"Net charge\"] = peptide.count(\"K\")+peptide.count(\"R\")-peptide.count(\"D\")-peptide.count(\"E\")\n",
        "        df.loc[index, \"pI\"] = calculate_pI(peptide)\n",
        "        df.loc[index, \"Predicted Efficacy\"] = 5.90*df.loc[index, 'Hydrophobic moment'] + 3.19*df.loc[index, 'Net charge'] - 3.23*df.loc[index, 'pI']- 4.34*df.loc[index, '% Negative residues'] + 20.77*df.loc[index, \"Amphipathic alpha-helix\"]\n",
        "    return df\n",
        "\n",
        "def calculate_regression2_features(df):\n",
        "    for index, row in df.iterrows():\n",
        "        peptide = row[\"Sequence\"]\n",
        "        df.loc[index, \"Amphipathic alpha-helix\"] = 1\n",
        "        df.loc[index, \"Hydrophobic moment\"] = calculate_hydrophobic_moment(peptide)\n",
        "        df.loc[index, \"% Hydrophobic residues\"] = (peptide.count(\"A\")+peptide.count(\"C\")+peptide.count(\"G\")+peptide.count(\"I\")+peptide.count(\"L\")+peptide.count(\"M\")+peptide.count(\"F\")+peptide.count(\"P\")+peptide.count(\"W\")+peptide.count(\"Y\")+peptide.count(\"V\"))/len(peptide)*100\n",
        "        df.loc[index, \"Length\"] = len(peptide)\n",
        "        df.loc[index, \"% Negative residues\"] = (peptide.count(\"D\")+peptide.count(\"E\"))/len(peptide)*100\n",
        "        df.loc[index, \"Net charge\"] = peptide.count(\"K\")+peptide.count(\"R\")-peptide.count(\"D\")-peptide.count(\"E\")\n",
        "        df.loc[index, \"% K of positive charges\"] = peptide.count(\"K\")/(peptide.count(\"K\")+peptide.count(\"R\"))*100\n",
        "        df.loc[index, \"% Positive residues\"] = (peptide.count(\"K\")+peptide.count(\"R\"))/len(peptide)*100\n",
        "\n",
        "        df.loc[index, \"Predicted Efficacy\"] =  1.29*df.loc[row, \"% K of positive charges\"] - 0.76*df.loc[row, \"% Hydrophobic residues\"] - 0.149*df.loc[row, \"% Positive residues\"]\n",
        "\n",
        "    return df\n",
        "\n",
        "def psa(peptide1, peptide2): # Pairwise sequence alignment\n",
        "    scores = []\n",
        "    alignment_score = pairwise2.align.globalds(peptide1, peptide2, matrix, -10, -10, penalize_end_gaps = False, score_only = True)\n",
        "    scores.append(alignment_score)\n",
        "    distance = abs(alignment_score-203) # 203 is max alignment score of two peptides from AHDB. High alignment score --> low distance --> high similarity\n",
        "    return distance\n",
        "\n",
        "def cluster_peptides(peptides, cutoff, alignmentFunc):\n",
        "    clusters = Butina.ClusterData(peptides, len(peptides), cutoff, isDistData=False, distFunc=alignmentFunc)\n",
        "    clusters = sorted(clusters, key=len, reverse=True)\n",
        "    return clusters"
      ]
    },
    {
      "cell_type": "markdown",
      "metadata": {
        "id": "9Ia_H_ICBARv"
      },
      "source": [
        "# First generation EEPs (EEP1 - EEP8)"
      ]
    },
    {
      "cell_type": "markdown",
      "metadata": {
        "id": "MAWJAnRNBFie"
      },
      "source": [
        "## Linear Regression Model Training"
      ]
    },
    {
      "cell_type": "code",
      "execution_count": null,
      "metadata": {
        "id": "aZmrhWg95c1n"
      },
      "outputs": [],
      "source": [
        "cpp_df = pd.read_excel(\"CPP Training Data.xlsx\", index_col=0)\n",
        "cpp_df = pd.get_dummies(cpp_df, columns = [\"Amphipathic alpha-helix\", \"Positively-charged surface\"], drop_first = True)\n",
        "\n",
        "X = cpp_df.loc[:, cpp_df.columns != 'Transfection Efficiency']\n",
        "Y = cpp_df.loc[:,\"Transfection Efficiency\"]\n",
        "\n",
        "cv = KFold(n_splits=len(cpp_df)-1) # Leave-one-out cross validation\n",
        "model = LinearRegression(fit_intercept = False)\n",
        "fs = SelectKBest(score_func=f_regression) # Feature selection using F scores\n",
        "pipeline = Pipeline(steps=[('sel', fs), ('lr', model)])\n",
        "grid = dict()\n",
        "grid['sel__k'] = [i for i in range(1, 15)]\n",
        "\n",
        "search = GridSearchCV(pipeline, grid, scoring='neg_root_mean_squared_error', n_jobs=-1, cv=cv)\n",
        "results = search.fit(X, Y)\n",
        "cols = results.best_estimator_[0].get_support(indices=True) #\n",
        "\n",
        "# Summarize results of best model\n",
        "print('Best RMSE: %.3f' % results.best_score_)\n",
        "print('Best Config: %s' % results.best_params_)\n",
        "print('Model features: %s' % X.columns[cols])\n",
        "print('Model coefficients: %s' % results.best_estimator_[1].coef_)\n",
        "yhat = results.best_estimator_[1].predict(results.best_estimator_[0].transform(X)) # Model predicted transfection efficiencies\n",
        "\n",
        "# F scores for each feature\n",
        "for i in range(len(results.best_estimator_[0].scores_)):\n",
        "    print(X.columns[i],': %f' % results.best_estimator_[0].scores_[i])\n",
        "\n",
        "fig = plt.figure()\n",
        "\n",
        "yvalues_df = pd.DataFrame(index=X.index, columns=[\"y\", \"yhat\"])\n",
        "yvalues_df.iloc[:, 0] = Y\n",
        "yvalues_df.iloc[:, 1] = yhat"
      ]
    },
    {
      "cell_type": "markdown",
      "metadata": {
        "id": "P_dHi-s8BJYu"
      },
      "source": [
        "## AHDB selection"
      ]
    },
    {
      "cell_type": "code",
      "execution_count": null,
      "metadata": {
        "id": "aM3TFkAE7L9x",
        "collapsed": true
      },
      "outputs": [],
      "source": [
        "ahdb = pd.read_excel(\"AHDB.xlsx\")\n",
        "ahdb = calculate_regression1_features(ahdb)\n",
        "ahdb_10 = ahdb[ahdb[\"Predicted Efficacy\"] > 10]\n",
        "ahdb_10.to_excel(\"ahdb_10.xlsx\")\n",
        "\n",
        "ahdb_dimers = pd.DataFrame(columns=ahdb_10.columns, index = range(1, len(ahdb_10)**2+1))\n",
        "\n",
        "counter = 0\n",
        "\n",
        "for index1, row1 in ahdb_10.iterrows():\n",
        "    for index2, row2 in ahdb_10.iterrows():\n",
        "          sequence = ahdb_10.loc[index1, \"Sequence\"] + \"GGSGGGS\" + ahdb_10.loc[index2, \"Sequence\"]\n",
        "          ahdb_dimers.iloc[counter, 0] = sequence\n",
        "          counter += 1\n",
        "\n",
        "ahdb_dimers = calculate_regression1_features(ahdb_dimers)\n",
        "ahdb_dimers_filtered = ahdb_dimers[(ahdb_dimers[\"Predicted Efficacy\"] > 83.7) & len(ahdb_dimers[\"Sequence\"]) < 50] # 83.7 is highest efficacy from training data set"
      ]
    },
    {
      "cell_type": "markdown",
      "metadata": {
        "id": "MOyK7-7CCM9R"
      },
      "source": [
        "# Second generation EEPs (EEP9 - EEP15)"
      ]
    },
    {
      "cell_type": "markdown",
      "metadata": {
        "id": "AEBCjrorCThz"
      },
      "source": [
        "## Linear Regression Model Training"
      ]
    },
    {
      "cell_type": "code",
      "execution_count": null,
      "metadata": {
        "id": "uS_ssSTjCQn0"
      },
      "outputs": [],
      "source": [
        "eep_df = pd.read_excel(\"ELP-EEPs_siGFP_screen_Gen2model.xlsx\", index_col=0)\n",
        "eep_df = pd.get_dummies(eep_df, columns = [\"Contains polyHis?\", \"Positively-charged surface\"], drop_first = True)\n",
        "\n",
        "X = eep_df.loc[:, eep_df.columns != 'siGFP delivery efficacy (1/(%GFP+ * [ELP] * [siRNA])']\n",
        "Y = eep_df.loc[:, \"siGFP delivery efficacy (1/(%GFP+ * [ELP] * [siRNA])\"]\n",
        "\n",
        "cv = KFold(n_splits=len(eep_df)-1) # Leave-one-out cross validation\n",
        "model = LinearRegression(fit_intercept = False)\n",
        "fs = SelectKBest(score_func=f_regression) # Feature selection using F scores\n",
        "pipeline = Pipeline(steps=[('sel', fs), ('lr', model)])\n",
        "grid = dict()\n",
        "grid['sel__k'] = [i for i in range(1, 15)]\n",
        "\n",
        "search = GridSearchCV(pipeline, grid, scoring='neg_root_mean_squared_error', n_jobs=-1, cv=cv)\n",
        "results = search.fit(X, Y)\n",
        "cols = results.best_estimator_[0].get_support(indices=True) #\n",
        "\n",
        "# Summarize results of best model\n",
        "print('Best RMSE: %.3f' % results.best_score_)\n",
        "print('Best Config: %s' % results.best_params_)\n",
        "print('Model features: %s' % X.columns[cols])\n",
        "print('Model coefficients: %s' % results.best_estimator_[1].coef_)\n",
        "yhat = results.best_estimator_[1].predict(results.best_estimator_[0].transform(X)) # Model predicted transfection efficiencies\n",
        "\n",
        "# F scores for each feature\n",
        "for i in range(len(results.best_estimator_[0].scores_)):\n",
        "    print(X.columns[i],': %f' % results.best_estimator_[0].scores_[i])\n",
        "\n",
        "fig = plt.figure()\n",
        "\n",
        "yvalues_df = pd.DataFrame(index=X.index, columns=[\"y\", \"yhat\"])\n",
        "yvalues_df.iloc[:, 0] = Y\n",
        "yvalues_df.iloc[:, 1] = yhat"
      ]
    },
    {
      "cell_type": "markdown",
      "metadata": {
        "id": "P2-VGtvkCp8f"
      },
      "source": [
        "## AHDB selection"
      ]
    },
    {
      "cell_type": "code",
      "execution_count": null,
      "metadata": {
        "id": "N2zGwVAFDVpy"
      },
      "outputs": [],
      "source": [
        "ahdb = pd.read_excel(\"AHDB.xlsx\")\n",
        "ahdb_filtered = calculate_regression2_features(ahdb)\n",
        "ahdb_filtered = ahdb_filtered[(ahdb_filtered['Length'] <= 20) & (ahdb_filtered['Length'] >= 10) & (ahdb_filtered[\"Net charge\"] >= ahdb_filtered[\"Net charge\"].mean())\n",
        "                             & (ahdb_filtered['% Negative residues'] < 5) & (ahdb_filtered['Predicted Efficacy'] > 0)]\n",
        "\n",
        "ahdb_dimers = pd.DataFrame(columns=ahdb_filtered.columns, index = range(1, len(ahdb_filtered)**2+1))\n",
        "display(ahdb_dimers)\n",
        "\n",
        "counter = 0\n",
        "for index1, row1 in ahdb_filtered.iterrows():\n",
        "    for index2, row2 in ahdb_filtered.iterrows():\n",
        "          sequence = ahdb_filtered.loc[index1, \"Sequence\"] + \"GGSGGGS\" + ahdb_filtered.loc[index2, \"Sequence\"]\n",
        "          ahdb_dimers.iloc[counter, 0] = sequence\n",
        "          counter += 1\n",
        "\n",
        "ahdb_dimers = calculate_regression2_features(ahdb_dimers)\n",
        "ahdb_dimers_filtered = ahdb_dimers[(ahdb_dimers[\"Predicted Efficacy\"] >= 50) & (ahdb_dimers[\"Hydrophobic Moment\"] >= 7) & (ahdb_dimers[\"% Positive residues\"] <= 40)]\n",
        "\n",
        "ahdb_dimers_filtered_unique = ahdb_dimers_filtered.copy()\n",
        "unique_monomers = set()\n",
        "for index, row in ahdb_dimers_filtered.iterrows():\n",
        "    sequence = row[\"Sequence\"]\n",
        "    pep1, pep2 = sequence.split(\"GGSGGGS\")\n",
        "    if pep1 in unique_monomers or pep2 in unique_monomers:\n",
        "        ahdb_dimers_filtered_unique.drop(index, inplace=True)\n",
        "    else:\n",
        "        unique_monomers.add(pep1)\n",
        "        unique_monomers.add(pep2)\n",
        "\n",
        "ahdb_dimers_filtered_unique.reset_index(drop=True, inplace=True)"
      ]
    },
    {
      "cell_type": "markdown",
      "metadata": {
        "id": "Og993mh6LPXW"
      },
      "source": [
        "## Butina Clustering"
      ]
    },
    {
      "cell_type": "code",
      "execution_count": 2,
      "metadata": {
        "id": "ZAkodwufLQri"
      },
      "outputs": [],
      "source": [
        "matrix = matlist.blosum62\n",
        "centroids_ahdb = []\n",
        "\n",
        "ahdb_dimers_uniquepeptides_eff = pd.read_excel(\"ahdb_dimers_uniquepeptides_eff.xlsx\", index_col=0)\n",
        "clusters_uniquepeptides = cluster_peptides(ahdb_dimers_uniquepeptides_eff.index.values, 15, psa) # Distance of 15 or lower considered neighbors, psa function defined above used to calculate distance\n",
        "\n",
        "for i in clusters_uniquepeptides:\n",
        "    cluster_efficacy = ahdb_dimers_uniquepeptides_eff.iloc[np.asarray(i), :]\n",
        "    most_effective = cluster_efficacy[['Predicted Efficacy']].idxmax()\n",
        "    most_effective_index = ahdb_dimers_uniquepeptides_eff.loc[most_effective,:].index[0]\n",
        "    centroids_ahdb.append(most_effective_index)\n",
        "\n",
        "ahdb_dimers_uniquepeptides_eff_centroids = ahdb_dimers_uniquepeptides_eff.loc[centroids_ahdb, :]"
      ]
    }
  ],
  "metadata": {
    "colab": {
      "provenance": []
    },
    "kernelspec": {
      "display_name": "Python 3",
      "name": "python3"
    },
    "language_info": {
      "name": "python"
    }
  },
  "nbformat": 4,
  "nbformat_minor": 0
}